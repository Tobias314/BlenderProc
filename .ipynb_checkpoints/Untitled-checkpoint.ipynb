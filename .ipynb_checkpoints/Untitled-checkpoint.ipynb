{
 "cells": [
  {
   "cell_type": "code",
   "execution_count": 1,
   "id": "c748181b-5cc3-4d68-b2ab-5d744e606e56",
   "metadata": {
    "tags": []
   },
   "outputs": [],
   "source": [
    "%load_ext autoreload\n",
    "%autoreload 2"
   ]
  },
  {
   "cell_type": "code",
   "execution_count": 2,
   "id": "3f2c4738-154d-4021-b700-7a6b87403677",
   "metadata": {
    "tags": []
   },
   "outputs": [],
   "source": [
    "import os\n",
    "import glob\n",
    "from pathlib import Path\n",
    "\n",
    "import numpy as np"
   ]
  },
  {
   "cell_type": "code",
   "execution_count": 3,
   "id": "83027f63-276a-4a6f-b8ec-3741fc56ffd1",
   "metadata": {
    "tags": []
   },
   "outputs": [
    {
     "name": "stdout",
     "output_type": "stream",
     "text": [
      "Reading dependencies from /home/tobi/development/BlenderProc/blainder/range_scanner/requirements.txt\n",
      "Checking Jinja2: version 3.0.2, import jinja2\n",
      "Checking MarkupSafe: version 2.0.1, import markupsafe\n",
      "Checking h5py: version 3.6.0, import h5py\n",
      "Checking laspy: version 2.0.3, import laspy\n",
      "Checking numpy: version 1.19.5, import numpy\n",
      "Checking pascal-voc-writer: version 0.1.4, import pascal_voc_writer\n",
      "Checking pypng: version 0.0.21, import png\n",
      "Checking PyYAML: version 6.0, import yaml\n",
      "All dependencies found.\n",
      "Loading config file from /home/tobi/development/BlenderProc/blainder/range_scanner/ui/presets.yaml ...\n",
      "Done.\n"
     ]
    },
    {
     "name": "stderr",
     "output_type": "stream",
     "text": [
      "/home/tobi/Programs/mambaforge/envs/blender/lib/python3.10/site-packages/numpy/core/getlimits.py:518: UserWarning: The value of the smallest subnormal for <class 'numpy.float32'> type is zero.\n",
      "  setattr(self, word, getattr(machar, word).flat[0])\n",
      "/home/tobi/Programs/mambaforge/envs/blender/lib/python3.10/site-packages/numpy/core/getlimits.py:89: UserWarning: The value of the smallest subnormal for <class 'numpy.float32'> type is zero.\n",
      "  return self._float_to_str(self.smallest_subnormal)\n",
      "/home/tobi/Programs/mambaforge/envs/blender/lib/python3.10/site-packages/numpy/core/getlimits.py:518: UserWarning: The value of the smallest subnormal for <class 'numpy.float64'> type is zero.\n",
      "  setattr(self, word, getattr(machar, word).flat[0])\n",
      "/home/tobi/Programs/mambaforge/envs/blender/lib/python3.10/site-packages/numpy/core/getlimits.py:89: UserWarning: The value of the smallest subnormal for <class 'numpy.float64'> type is zero.\n",
      "  return self._float_to_str(self.smallest_subnormal)\n"
     ]
    }
   ],
   "source": [
    "import blainder.range_scanner.ui.user_interface as blainder_api\n",
    "blainder_api.register()"
   ]
  },
  {
   "cell_type": "code",
   "execution_count": 4,
   "id": "5f6881fd-dc1a-4ef3-b3de-92730bd310fb",
   "metadata": {
    "tags": []
   },
   "outputs": [
    {
     "name": "stdout",
     "output_type": "stream",
     "text": [
      "Selecting render devices...\n",
      "Using only the CPU for rendering\n"
     ]
    }
   ],
   "source": [
    "import blenderproc as bproc\n",
    "bproc.init()\n",
    "bproc.renderer.set_light_bounces(diffuse_bounces=200, glossy_bounces=200, max_bounces=200,\n",
    "                                 transmission_bounces=200, transparent_max_bounces=200)\n",
    "mapping_file = bproc.utility.resolve_resource(os.path.join(\"front_3D\", \"3D_front_mapping.csv\"))\n",
    "mapping = bproc.utility.LabelIdMapping.from_csv(mapping_file)"
   ]
  },
  {
   "cell_type": "code",
   "execution_count": 5,
   "id": "4c6f3e79-7850-4f40-8569-7799f054692c",
   "metadata": {
    "tags": []
   },
   "outputs": [],
   "source": [
    "house_json_paths = glob.glob(\"/home/tobi/development/datasets/3D-FRONT/layouts/*.json\")\n",
    "house_json_paths = sorted(house_json_paths)"
   ]
  },
  {
   "cell_type": "code",
   "execution_count": 6,
   "id": "c1bd967a-51d6-4fd8-bdad-6baea8099d54",
   "metadata": {
    "tags": []
   },
   "outputs": [],
   "source": [
    "house_number = 0\n",
    "house_json_path = house_json_paths[house_number]\n",
    "future_model_dir = \"/home/tobi/development/datasets/3D-FRONT/3D-FUTURE-model\"\n",
    "front_3D_texture_dir = \"/home/tobi/development/datasets/3D-FRONT/3D-FRONT-texture\""
   ]
  },
  {
   "cell_type": "code",
   "execution_count": 7,
   "id": "fc896d60-533d-499d-8932-02bc1b30e373",
   "metadata": {
    "tags": []
   },
   "outputs": [],
   "source": [
    "import tempfile\n",
    "import subprocess\n",
    "import bpy\n",
    "def inspect():\n",
    "    with tempfile.TemporaryDirectory() as tmpdirname:\n",
    "        filepath = f\"/{tmpdirname}/blender_scene\"\n",
    "        bpy.ops.wm.save_as_mainfile(filepath=filepath)\n",
    "        subprocess.call(('blender',filepath))"
   ]
  },
  {
   "cell_type": "code",
   "execution_count": 35,
   "id": "bd598c99-828e-4214-8e76-876b7af1e139",
   "metadata": {
    "tags": []
   },
   "outputs": [],
   "source": [
    "titles = [f['title'] for f in house['furniture']]"
   ]
  },
  {
   "cell_type": "code",
   "execution_count": 69,
   "id": "b12b8ee8-88a1-4844-abfa-ca824f67dc7e",
   "metadata": {
    "tags": []
   },
   "outputs": [
    {
     "name": "stdout",
     "output_type": "stream",
     "text": [
      "/home/tobi/development/datasets/3D-FRONT/3D-FUTURE-model/bcb9884d-d032-40df-b2e1-c2bb467a02e8/raw_model.obj\n",
      "/home/tobi/development/datasets/3D-FRONT/3D-FUTURE-model/bcb9884d-d032-40df-b2e1-c2bb467a02e8/raw_model.obj\n",
      "OBJ import of 'raw_model.obj' took 17.5 ms\n"
     ]
    },
    {
     "name": "stderr",
     "output_type": "stream",
     "text": [
      "OBJ import: MTL texture map type not supported: 'map_Ka ./texture.png'\n",
      "OBJ import: MTL texture map type not supported: 'map_Ka ./texture.png'\n",
      "OBJ import: MTL texture map type not supported: 'map_Ka ./texture.png'\n",
      "OBJ import: MTL texture map type not supported: 'map_Ka ./texture.png'\n",
      "Loaded image from: '/home/tobi/development/datasets/3D-FRONT/3D-FUTURE-model/bcb9884d-d032-40df-b2e1-c2bb467a02e8/./texture.png'\n",
      "OBJ import: MTL texture map type not supported: 'map_Ka ./texture.png'\n",
      "OBJ import: MTL texture map type not supported: 'map_Ka ./texture.png'\n",
      "OBJ import: MTL texture map type not supported: 'map_Ka ./texture.png'\n",
      "OBJ import: MTL texture map type not supported: 'map_Ka ./texture.png'\n",
      "Loaded image from: '/home/tobi/development/datasets/3D-FRONT/3D-FUTURE-model/bcb9884d-d032-40df-b2e1-c2bb467a02e8/./texture.png'\n"
     ]
    }
   ],
   "source": [
    "bproc.clean_up()\n",
    "\n",
    "import json\n",
    "with open(house_json_path, 'r') as f:\n",
    "    house = json.load(f)\n",
    "    \n",
    "beds = [f for f in house['furniture'] if 'bed' in f['title']]\n",
    "house['furniture'] = [beds[1], beds[0]]\n",
    "#rooms = house['scene']['room']\n",
    "#room = rooms[0]\n",
    "#room_uids = {c['ref'] for c in room['children']}\n",
    "#house['furniture'] = [f for f in house['furniture'] if f['uid'] in room_uids]\n",
    "#house['mesh'] = [m for m in house['mesh'] if m['uid'] in room_uids]\n",
    "\n",
    "from blenderproc.python.loader.ObjectLoader import load_obj\n",
    "import os\n",
    "for bed in beds:\n",
    "    path = os.path.join(future_model_dir, bed['jid'], 'raw_model.obj')\n",
    "    print(path)\n",
    "    load_obj(path)\n",
    "    #bpy.ops.wm.obj_import(filepath=path)\n",
    "    #bpy.ops.import_scene.obj(filepath=path)\n",
    "\n",
    "from blenderproc.python.loader import Front3DLoader\n",
    "#furniture = Front3DLoader._Front3DLoader.load_furniture_objs(data=house, future_model_path=future_model_dir, lamp_light_strength=100, label_mapping=mapping)\n",
    "#Front3DLoader._Front3DLoader.create_mesh_objects_from_file(data=house, front_3D_texture_path=front_3D_texture_dir, ceiling_light_strength=0,\n",
    "#                                                           label_mapping=mapping, json_path=house_json_path)\n",
    "#Front3DLoader._Front3DLoader.move_and_duplicate_furniture(data=house, all_loaded_furniture=furniture)"
   ]
  },
  {
   "cell_type": "code",
   "execution_count": 70,
   "id": "3330e22a-a714-4abd-a31b-e1d48a6280c6",
   "metadata": {
    "tags": []
   },
   "outputs": [
    {
     "name": "stdout",
     "output_type": "stream",
     "text": [
      "OBJ import of 'raw_model.obj' took 17.2 ms\n",
      "Info: Total files 2 | Changed 2 | Failed 0\n",
      "Info: Saved \"blender_scene\"\n",
      "::::::::::::::::::::::::::::::::::::::::::::::::::::::::::::::::::::::::::::::::::::::::::::::::::::\n",
      "\n",
      " Starting the Poliigon Addon for Blender... \n",
      "\n",
      "/home/tobi/Poliigon/Blender/Poliigon_Blender_Settings.ini\n",
      "Toggle verbose logging in addon prefrences\n",
      "--------------------------------------------------\n",
      "f_GetSettings\n",
      "--------------------------------------------------\n",
      "f_SaveSettings\n",
      "--------------------------------------------------\n",
      "f_GetCredits\n",
      "--------------------------------------------------\n",
      "f_APIGetCredits\n",
      "--------------------------------------------------\n",
      "f_GetUserInfo\n",
      "--------------------------------------------------\n",
      "f_APIGetUserInfo\n",
      "--------------------------------------------------\n",
      "f_GetSubscriptionDetails\n",
      "--------------------------------------------------\n",
      "f_APIGetSubscriptionDetails\n",
      "--------------------------------------------------\n",
      "f_GetAssets\n",
      "f_GetAssets my_assets None 5000 1\n",
      "--------------------------------------------------\n",
      "f_GetPageAssets\n",
      "f_GetPageAssets poliigon/All Assets\n",
      "f_GetAssets my_assets/All Assets\n",
      "--------------------------------------------------\n",
      "f_APIGetAssets\n",
      "f_APIGetAssets 1 5000 my_assets/All Assets 1 1678538473.0094051\n",
      "f_APIGetAssets {\"query\": \"\", \"page\": 1, \"perPage\": 5000, \"algoliaParams\": {\"facetFilters\": [], \"numericFilters\": [\"Credit>=0\"]}}\n",
      "f_GetAssets None None None 0\n",
      "f_GetAssets poliigon/All Assets\n",
      "f_APIGetAssets 1 10 poliigon/All Assets 0 1678538473.0108135\n",
      "f_APIGetAssets {\"query\": \"\", \"page\": 1, \"perPage\": 10, \"algoliaParams\": {\"facetFilters\": [], \"numericFilters\": [\"Credit>=0\"]}}\n",
      "--------------------------------------------------\n",
      "f_GetCategories\n",
      "--------------------------------------------------\n",
      "f_APIGetCategories\n",
      "--------------------------------------------------\n",
      "f_GetLocalAssets\n",
      "--------------------------------------------------\n",
      "f_GetLocalAssetsThread\n",
      "blenderkit addon: Verbose is enabled\n",
      "blenderkit addon: Read in JSON settings from file\n",
      "--------------------------------------------------\n",
      "f_GetSceneAssets\n",
      "blenderkit INFO: Daemon server starting on address http://127.0.0.1:62485, log file for errors located at: /home/tobi/blenderkit_data/daemon/daemon-62485.log [13:41:13.482, daemon_lib.py:455]\n",
      "f_APIGetAssets 9 assets (9 total)\n",
      "f_APIGetAssets 9 1 pages\n",
      "--------------------------------------------------\n",
      "f_CheckAssets\n",
      "f_APIGetAssets 10 assets (5568 total)\n",
      "f_APIGetAssets 10 557 pages\n",
      "blenderkit INFO: Daemon is running! [13:41:14.085, timer.py:73]\n",
      "blenderkit INFO: Connected to www.blenderkit.com [13:41:14.085, daemon_lib.py:335]\n"
     ]
    },
    {
     "name": "stderr",
     "output_type": "stream",
     "text": [
      "GPUTexture: Blender Texture Not Loaded!\n",
      "GPUTexture: Blender Texture Not Loaded!\n",
      "GPUTexture: Blender Texture Not Loaded!\n",
      "GPUTexture: Blender Texture Not Loaded!\n",
      "EGL Error (0x300D): EGL_BAD_SURFACE: An EGLSurface argument does not name a valid surface (window, pixel buffer or pixmap) configured for GL rendering.\n",
      "EGL Error (0x300D): EGL_BAD_SURFACE: An EGLSurface argument does not name a valid surface (window, pixel buffer or pixmap) configured for GL rendering.\n"
     ]
    },
    {
     "name": "stdout",
     "output_type": "stream",
     "text": [
      "f_APIGetCategories Textures\n",
      "f_APIGetCategories Models\n",
      "f_APIGetCategories HDRIs\n",
      "f_APIGetCategories Brushes\n",
      "blenderkit INFO: Unregistering BlenderKit add-on [13:42:32.675, __init__.py:2041]\n",
      "blenderkit INFO: Reported Blender quit to daemon [13:42:32.677, __init__.py:2061]\n",
      "Read prefs: /home/tobi/.config/blender/3.4/config/userpref.blend\n",
      "Read blend: //tmp/tmpd720vcw9/blender_scene\n",
      "Saved session recovery to '/tmp/quit.blend'\n",
      "\n",
      "Blender quit\n"
     ]
    }
   ],
   "source": [
    "inspect()"
   ]
  },
  {
   "cell_type": "code",
   "execution_count": 15,
   "id": "ca2afffd-c9bf-49eb-9c6e-8dd2ccdd1abd",
   "metadata": {
    "tags": []
   },
   "outputs": [],
   "source": [
    "import numpy as np\n",
    "\n",
    "def lookat(eye: np.ndarray, center: np.ndarray, up: np.ndarray) -> np.ndarray:\n",
    "    # Calculate the forward direction of the camera\n",
    "    forward = center - eye\n",
    "    forward /= np.linalg.norm(forward)\n",
    "\n",
    "    # Calculate the right direction of the camera\n",
    "    right = np.cross(forward, up)\n",
    "    right /= np.linalg.norm(right)\n",
    "\n",
    "    # Calculate the up direction of the camera\n",
    "    new_up = np.cross(right, forward)\n",
    "\n",
    "    # Construct the view matrix\n",
    "    view = np.eye(4)\n",
    "    view[:3, 0] = right\n",
    "    view[:3, 1] = new_up\n",
    "    view[:3, 2] = -forward\n",
    "    view[:3, 3] = eye\n",
    "\n",
    "    return view"
   ]
  },
  {
   "cell_type": "code",
   "execution_count": 12,
   "id": "31b4d32a-ab37-4c06-b7b1-e607d0628ff0",
   "metadata": {
    "tags": []
   },
   "outputs": [],
   "source": [
    "scene = bpy.context.scene\n",
    "scene.camera.location.z = 5"
   ]
  },
  {
   "cell_type": "code",
   "execution_count": 26,
   "id": "c4e18bab-88a1-4b34-8796-2f902705c906",
   "metadata": {
    "tags": []
   },
   "outputs": [
    {
     "name": "stdout",
     "output_type": "stream",
     "text": [
      "OBJ import of 'raw_model.obj' took 17.4 ms\n",
      "Info: Total files 37 | Changed 20 | Failed 0\n",
      "Info: Saved \"blender_scene\"\n",
      "::::::::::::::::::::::::::::::::::::::::::::::::::::::::::::::::::::::::::::::::::::::::::::::::::::\n",
      "\n",
      " Starting the Poliigon Addon for Blender... \n",
      "\n",
      "/home/tobi/Poliigon/Blender/Poliigon_Blender_Settings.ini\n",
      "Toggle verbose logging in addon prefrences\n",
      "--------------------------------------------------\n",
      "f_GetSettings\n",
      "--------------------------------------------------\n",
      "f_SaveSettings\n",
      "--------------------------------------------------\n",
      "f_GetCredits\n",
      "--------------------------------------------------\n",
      "f_APIGetCredits\n",
      "--------------------------------------------------\n",
      "f_GetUserInfo\n",
      "--------------------------------------------------\n",
      "f_APIGetUserInfo\n",
      "--------------------------------------------------\n",
      "f_GetSubscriptionDetails\n",
      "--------------------------------------------------\n",
      "f_APIGetSubscriptionDetails\n",
      "--------------------------------------------------\n",
      "f_GetAssets\n",
      "f_GetAssets my_assets None 5000 1\n",
      "--------------------------------------------------\n",
      "f_GetPageAssets\n",
      "f_GetPageAssets poliigon/All Assets\n",
      "f_GetAssets my_assets/All Assets\n",
      "--------------------------------------------------\n",
      "f_APIGetAssets\n",
      "f_APIGetAssets 1 5000 my_assets/All Assets 1 1678533519.0013647\n",
      "f_APIGetAssets {\"query\": \"\", \"page\": 1, \"perPage\": 5000, \"algoliaParams\": {\"facetFilters\": [], \"numericFilters\": [\"Credit>=0\"]}}\n",
      "f_GetAssets None None None 0\n",
      "f_GetAssets poliigon/All Assets\n",
      "f_APIGetAssets 1 10 poliigon/All Assets 0 1678533519.0043397\n",
      "f_APIGetAssets {\"query\": \"\", \"page\": 1, \"perPage\": 10, \"algoliaParams\": {\"facetFilters\": [], \"numericFilters\": [\"Credit>=0\"]}}\n",
      "--------------------------------------------------\n",
      "f_GetCategories\n",
      "--------------------------------------------------\n",
      "f_APIGetCategories\n",
      "--------------------------------------------------\n",
      "f_GetLocalAssets\n",
      "--------------------------------------------------\n",
      "f_GetLocalAssetsThread\n",
      "blenderkit addon: Verbose is enabled\n",
      "blenderkit addon: Read in JSON settings from file\n",
      "--------------------------------------------------\n",
      "f_GetSceneAssets\n",
      "blenderkit INFO: Daemon server starting on address http://127.0.0.1:62485, log file for errors located at: /home/tobi/blenderkit_data/daemon/daemon-62485.log [12:18:39.573, daemon_lib.py:455]\n",
      "f_APIGetCategories Textures\n",
      "f_APIGetCategories Models\n",
      "f_APIGetCategories HDRIs\n",
      "f_APIGetCategories Brushes\n",
      "--------------------------------------------------\n",
      "f_CheckAssets\n",
      "f_APIGetAssets 9 assets (9 total)\n",
      "f_APIGetAssets 9 1 pages\n",
      "f_APIGetAssets 10 assets (5568 total)\n",
      "f_APIGetAssets 10 557 pages\n",
      "blenderkit INFO: Daemon is running! [12:18:40.185, timer.py:73]\n",
      "blenderkit INFO: Connected to www.blenderkit.com [12:18:40.185, daemon_lib.py:335]\n"
     ]
    },
    {
     "name": "stderr",
     "output_type": "stream",
     "text": [
      "EGL Error (0x300D): EGL_BAD_SURFACE: An EGLSurface argument does not name a valid surface (window, pixel buffer or pixmap) configured for GL rendering.\n",
      "EGL Error (0x300D): EGL_BAD_SURFACE: An EGLSurface argument does not name a valid surface (window, pixel buffer or pixmap) configured for GL rendering.\n",
      "EGL Error (0x300D): EGL_BAD_SURFACE: An EGLSurface argument does not name a valid surface (window, pixel buffer or pixmap) configured for GL rendering.\n",
      "EGL Error (0x300D): EGL_BAD_SURFACE: An EGLSurface argument does not name a valid surface (window, pixel buffer or pixmap) configured for GL rendering.\n",
      "EGL Error (0x300D): EGL_BAD_SURFACE: An EGLSurface argument does not name a valid surface (window, pixel buffer or pixmap) configured for GL rendering.\n",
      "EGL Error (0x300D): EGL_BAD_SURFACE: An EGLSurface argument does not name a valid surface (window, pixel buffer or pixmap) configured for GL rendering.\n",
      "EGL Error (0x300D): EGL_BAD_SURFACE: An EGLSurface argument does not name a valid surface (window, pixel buffer or pixmap) configured for GL rendering.\n",
      "EGL Error (0x300D): EGL_BAD_SURFACE: An EGLSurface argument does not name a valid surface (window, pixel buffer or pixmap) configured for GL rendering.\n",
      "EGL Error (0x300D): EGL_BAD_SURFACE: An EGLSurface argument does not name a valid surface (window, pixel buffer or pixmap) configured for GL rendering.\n",
      "EGL Error (0x300D): EGL_BAD_SURFACE: An EGLSurface argument does not name a valid surface (window, pixel buffer or pixmap) configured for GL rendering.\n",
      "EGL Error (0x300D): EGL_BAD_SURFACE: An EGLSurface argument does not name a valid surface (window, pixel buffer or pixmap) configured for GL rendering.\n",
      "GPUTexture: Blender Texture Not Loaded!\n",
      "GPUTexture: Blender Texture Not Loaded!\n",
      "GPUTexture: Blender Texture Not Loaded!\n"
     ]
    },
    {
     "name": "stdout",
     "output_type": "stream",
     "text": [
      "blenderkit INFO: Unregistering BlenderKit add-on [12:20:33.610, __init__.py:2041]\n",
      "blenderkit INFO: Reported Blender quit to daemon [12:20:33.613, __init__.py:2061]\n",
      "Read prefs: /home/tobi/.config/blender/3.4/config/userpref.blend\n",
      "Read blend: //tmp/tmpsjslot4a/blender_scene\n",
      "<!> event has invalid window\n",
      "<!> event has invalid window\n",
      "<!> event has invalid window\n",
      "<!> event has invalid window\n",
      "<!> event has invalid window\n",
      "<!> event has invalid window\n",
      "<!> event has invalid window\n",
      "<!> event has invalid window\n",
      "<!> event has invalid window\n",
      "<!> event has invalid window\n",
      "<!> event has invalid window\n",
      "<!> event has invalid window\n",
      "<!> event has invalid window\n",
      "<!> event has invalid window\n",
      "<!> event has invalid window\n",
      "<!> event has invalid window\n",
      "<!> event has invalid window\n",
      "Saved session recovery to '/tmp/quit.blend'\n",
      "\n",
      "Blender quit\n"
     ]
    }
   ],
   "source": [
    "inspect()"
   ]
  },
  {
   "cell_type": "code",
   "execution_count": 18,
   "id": "2bd44fc6-5c26-42cf-ad8b-d73998931cc5",
   "metadata": {
    "tags": []
   },
   "outputs": [
    {
     "name": "stdout",
     "output_type": "stream",
     "text": [
      "WARNING: File name contains invalid characters. New file name: output_file\n",
      "Rendering frame 1...\n",
      "Scanning scene: [####################] 100.0% DONE\n",
      "Done.\n",
      "output_file_frames_1_to_1\n",
      "Exporting data into .las format...\n",
      "Done.\n",
      "Exporting data into .las format...\n",
      "Done.\n"
     ]
    }
   ],
   "source": [
    "blainder_api.scan_rotating(\n",
    "    bpy.context, \n",
    "\n",
    "    scannerObject=bpy.context.scene.objects[\"Camera\"],\n",
    "\n",
    "    xStepDegree=0.2, fovX=180.0, yStepDegree=0.33, fovY=180.0, rotationsPerSecond=20,\n",
    "\n",
    "    reflectivityLower=0.0, distanceLower=0.0, reflectivityUpper=0.0, distanceUpper=99999.9, maxReflectionDepth=10,\n",
    "    \n",
    "    enableAnimation=False, frameStart=1, frameEnd=1, frameStep=1, frameRate=1,\n",
    "\n",
    "    addNoise=False, noiseType='gaussian', mu=0.0, sigma=0.01, noiseAbsoluteOffset=0.0, noiseRelativeOffset=0.0, \n",
    "\n",
    "    simulateRain=False, rainfallRate=0.0, \n",
    "\n",
    "    addMesh=True,\n",
    "\n",
    "    exportLAS=True, exportHDF=False, exportCSV=False, exportSingleFrames=False,\n",
    "    dataFilePath=\"output\", dataFileName=\"output file\",\n",
    "    \n",
    "    debugLines=False, debugOutput=False, outputProgress=True, measureTime=False, singleRay=False, destinationObject=None, targetObject=None\n",
    ")  "
   ]
  },
  {
   "cell_type": "code",
   "execution_count": 19,
   "id": "861cd290-516a-4a66-8ea0-3284b427d3a9",
   "metadata": {
    "tags": []
   },
   "outputs": [
    {
     "name": "stdout",
     "output_type": "stream",
     "text": [
      "Info: Total files 37 | Changed 20 | Failed 0\n",
      "Info: Saved \"blender_scene\"\n",
      "::::::::::::::::::::::::::::::::::::::::::::::::::::::::::::::::::::::::::::::::::::::::::::::::::::\n",
      "\n",
      " Starting the Poliigon Addon for Blender... \n",
      "\n",
      "/home/tobi/Poliigon/Blender/Poliigon_Blender_Settings.ini\n",
      "Toggle verbose logging in addon prefrences\n",
      "--------------------------------------------------\n",
      "f_GetSettings\n",
      "--------------------------------------------------\n",
      "f_SaveSettings\n",
      "--------------------------------------------------\n",
      "f_GetCredits\n",
      "--------------------------------------------------\n",
      "f_APIGetCredits\n",
      "--------------------------------------------------\n",
      "f_GetUserInfo\n",
      "--------------------------------------------------\n",
      "f_APIGetUserInfo\n",
      "--------------------------------------------------\n",
      "f_GetSubscriptionDetails\n",
      "--------------------------------------------------\n",
      "f_APIGetSubscriptionDetails\n",
      "--------------------------------------------------\n",
      "f_GetAssets\n",
      "f_GetAssets my_assets None 5000 1\n",
      "--------------------------------------------------\n",
      "f_GetPageAssets\n",
      "f_GetPageAssets poliigon/All Assets\n",
      "f_GetAssets my_assets/All Assets\n",
      "--------------------------------------------------\n",
      "f_APIGetAssets\n",
      "f_APIGetAssets 1 5000 my_assets/All Assets 1 1678486014.7609358\n",
      "f_APIGetAssets {\"query\": \"\", \"page\": 1, \"perPage\": 5000, \"algoliaParams\": {\"facetFilters\": [], \"numericFilters\": [\"Credit>=0\"]}}\n",
      "f_GetAssets None None None 0\n",
      "f_GetAssets poliigon/All Assets\n",
      "f_APIGetAssets 1 10 poliigon/All Assets 0 1678486014.7634053\n",
      "f_APIGetAssets {\"query\": \"\", \"page\": 1, \"perPage\": 10, \"algoliaParams\": {\"facetFilters\": [], \"numericFilters\": [\"Credit>=0\"]}}\n",
      "--------------------------------------------------\n",
      "f_GetCategories\n",
      "--------------------------------------------------\n",
      "f_APIGetCategories\n",
      "--------------------------------------------------\n",
      "f_GetLocalAssets\n",
      "--------------------------------------------------\n",
      "f_GetLocalAssetsThread\n",
      "blenderkit addon: Verbose is enabled\n",
      "blenderkit addon: Read in JSON settings from file\n",
      "--------------------------------------------------\n",
      "f_GetSceneAssets\n",
      "blenderkit INFO: Daemon server starting on address http://127.0.0.1:62485, log file for errors located at: /home/tobi/blenderkit_data/daemon/daemon-62485.log [23:06:55.340, daemon_lib.py:455]\n",
      "--------------------------------------------------\n",
      "f_CheckAssets\n",
      "f_APIGetCategories Textures\n",
      "f_APIGetCategories Models\n",
      "f_APIGetCategories HDRIs\n",
      "f_APIGetCategories Brushes\n",
      "f_APIGetAssets 9 assets (9 total)\n",
      "f_APIGetAssets 9 1 pages\n",
      "f_APIGetAssets 10 assets (5568 total)\n",
      "f_APIGetAssets 10 557 pages\n",
      "blenderkit INFO: Daemon is running! [23:06:55.955, timer.py:73]\n",
      "blenderkit INFO: Connected to www.blenderkit.com [23:06:55.955, daemon_lib.py:335]\n",
      "Read prefs: /home/tobi/.config/blender/3.4/config/userpref.blend\n",
      "Read blend: //tmp/tmp196zkt45/blender_scene\n",
      "Info: Deleted 1 object(s)\n",
      "\n"
     ]
    },
    {
     "name": "stderr",
     "output_type": "stream",
     "text": [
      "GPUTexture: Blender Texture Not Loaded!\n",
      "GPUTexture: Blender Texture Not Loaded!\n",
      "GPUTexture: Blender Texture Not Loaded!\n",
      "GPUTexture: Blender Texture Not Loaded!\n",
      "GPUTexture: Blender Texture Not Loaded!\n",
      "GPUTexture: Blender Texture Not Loaded!\n",
      "GPUTexture: Blender Texture Not Loaded!\n",
      "GPUTexture: Blender Texture Not Loaded!\n",
      "GPUTexture: Blender Texture Not Loaded!\n",
      "GPUTexture: Blender Texture Not Loaded!\n",
      "GPUTexture: Blender Texture Not Loaded!\n",
      "GPUTexture: Blender Texture Not Loaded!\n",
      "GPUTexture: Blender Texture Not Loaded!\n",
      "GPUTexture: Blender Texture Not Loaded!\n",
      "GPUTexture: Blender Texture Not Loaded!\n",
      "GPUTexture: Blender Texture Not Loaded!\n",
      "GPUTexture: Blender Texture Not Loaded!\n",
      "GPUTexture: Blender Texture Not Loaded!\n",
      "GPUTexture: Blender Texture Not Loaded!\n",
      "GPUTexture: Blender Texture Not Loaded!\n",
      "GPUTexture: Blender Texture Not Loaded!\n",
      "GPUTexture: Blender Texture Not Loaded!\n",
      "GPUTexture: Blender Texture Not Loaded!\n",
      "GPUTexture: Blender Texture Not Loaded!\n",
      "GPUTexture: Blender Texture Not Loaded!\n",
      "GPUTexture: Blender Texture Not Loaded!\n",
      "GPUTexture: Blender Texture Not Loaded!\n",
      "GPUTexture: Blender Texture Not Loaded!\n",
      "GPUTexture: Blender Texture Not Loaded!\n",
      "GPUTexture: Blender Texture Not Loaded!\n",
      "GPUTexture: Blender Texture Not Loaded!\n",
      "GPUTexture: Blender Texture Not Loaded!\n",
      "GPUTexture: Blender Texture Not Loaded!\n",
      "GPUTexture: Blender Texture Not Loaded!\n",
      "GPUTexture: Blender Texture Not Loaded!\n",
      "GPUTexture: Blender Texture Not Loaded!\n",
      "GPUTexture: Blender Texture Not Loaded!\n",
      "GPUTexture: Blender Texture Not Loaded!\n",
      "GPUTexture: Blender Texture Not Loaded!\n",
      "GPUTexture: Blender Texture Not Loaded!\n"
     ]
    },
    {
     "name": "stdout",
     "output_type": "stream",
     "text": [
      "blenderkit ERROR: Disconnected from www.blenderkit.com [00:21:59.758, daemon_lib.py:345]\n",
      "blenderkit INFO: Connected to www.blenderkit.com [10:55:49.617, daemon_lib.py:335]\n",
      "blenderkit INFO: Unregistering BlenderKit add-on [10:58:53.455, __init__.py:2041]\n",
      "blenderkit INFO: Reported Blender quit to daemon [10:58:53.457, __init__.py:2061]\n",
      "Saved session recovery to '/tmp/quit.blend'\n",
      "\n",
      "Blender quit\n"
     ]
    }
   ],
   "source": [
    "inspect()"
   ]
  },
  {
   "cell_type": "code",
   "execution_count": 98,
   "id": "b746326b-24cb-4488-92fe-868bb24dd628",
   "metadata": {
    "tags": []
   },
   "outputs": [
    {
     "data": {
      "text/plain": [
       "['WallOuter',\n",
       " 'WallInner',\n",
       " 'WallInner',\n",
       " 'Baseboard',\n",
       " 'WallInner',\n",
       " 'WallInner',\n",
       " 'WallInner',\n",
       " 'WallInner',\n",
       " 'WallOuter',\n",
       " 'WallInner',\n",
       " 'WallInner',\n",
       " 'WallInner',\n",
       " 'WallInner',\n",
       " 'WallInner',\n",
       " 'WallInner',\n",
       " 'WallInner',\n",
       " 'WallInner',\n",
       " 'WallInner',\n",
       " 'Baseboard',\n",
       " 'WallInner',\n",
       " 'Baseboard',\n",
       " 'Baseboard',\n",
       " 'Baseboard',\n",
       " 'WallInner',\n",
       " 'Baseboard',\n",
       " 'Baseboard',\n",
       " 'Baseboard',\n",
       " 'Baseboard',\n",
       " 'WallInner',\n",
       " 'WallInner',\n",
       " 'WallInner',\n",
       " 'WallInner',\n",
       " 'WallInner',\n",
       " 'Baseboard',\n",
       " 'Baseboard',\n",
       " 'Baseboard',\n",
       " 'Baseboard',\n",
       " 'Baseboard',\n",
       " 'Baseboard',\n",
       " 'Baseboard',\n",
       " 'Baseboard',\n",
       " 'Baseboard',\n",
       " 'Baseboard',\n",
       " 'Baseboard',\n",
       " 'Baseboard',\n",
       " 'Baseboard',\n",
       " 'Baseboard',\n",
       " 'Baseboard',\n",
       " 'Baseboard',\n",
       " 'Baseboard',\n",
       " 'Baseboard',\n",
       " 'Baseboard',\n",
       " 'Baseboard',\n",
       " 'Baseboard',\n",
       " 'Baseboard',\n",
       " 'WallTop',\n",
       " 'WallBottom',\n",
       " 'WallTop',\n",
       " 'WallBottom',\n",
       " 'WallOuter',\n",
       " 'WallTop',\n",
       " 'WallBottom',\n",
       " 'WallOuter',\n",
       " 'WallInner',\n",
       " 'WallTop',\n",
       " 'WallBottom',\n",
       " 'WallInner',\n",
       " 'WallOuter',\n",
       " 'WallTop',\n",
       " 'WallBottom',\n",
       " 'WallTop',\n",
       " 'WallBottom',\n",
       " 'WallOuter',\n",
       " 'WallTop',\n",
       " 'WallBottom',\n",
       " 'WallInner',\n",
       " 'WallTop',\n",
       " 'WallBottom',\n",
       " 'WallInner',\n",
       " 'WallOuter',\n",
       " 'WallTop',\n",
       " 'WallBottom',\n",
       " 'WallOuter',\n",
       " 'WallTop',\n",
       " 'WallBottom',\n",
       " 'WallInner',\n",
       " 'WallOuter',\n",
       " 'WallTop',\n",
       " 'WallBottom',\n",
       " 'WallInner',\n",
       " 'WallTop',\n",
       " 'WallBottom',\n",
       " 'WallTop',\n",
       " 'WallBottom',\n",
       " 'WallTop',\n",
       " 'WallBottom',\n",
       " 'WallInner',\n",
       " 'WallTop',\n",
       " 'WallBottom',\n",
       " 'WallInner',\n",
       " 'WallOuter',\n",
       " 'WallTop',\n",
       " 'WallBottom',\n",
       " 'WallTop',\n",
       " 'WallBottom',\n",
       " 'WallTop',\n",
       " 'WallBottom',\n",
       " 'WallInner',\n",
       " 'WallOuter',\n",
       " 'WallTop',\n",
       " 'WallBottom',\n",
       " 'Floor',\n",
       " 'Floor',\n",
       " 'Floor',\n",
       " 'SlabBottom',\n",
       " 'SlabSide',\n",
       " 'SlabSide',\n",
       " 'SlabSide',\n",
       " 'SlabSide',\n",
       " 'SlabSide',\n",
       " 'SlabSide',\n",
       " 'SlabSide',\n",
       " 'SlabSide',\n",
       " 'SlabSide',\n",
       " 'SlabSide',\n",
       " 'SlabSide',\n",
       " 'SlabSide',\n",
       " 'SlabSide',\n",
       " 'SlabSide',\n",
       " 'SlabSide',\n",
       " 'SlabSide',\n",
       " 'SlabSide',\n",
       " 'SlabSide',\n",
       " 'WallTop',\n",
       " 'WallBottom',\n",
       " 'WallTop',\n",
       " 'WallBottom',\n",
       " 'ExtrusionCustomizedCeilingModel',\n",
       " 'LightBand',\n",
       " 'Ceiling',\n",
       " 'Ceiling',\n",
       " 'Ceiling',\n",
       " 'Ceiling',\n",
       " 'Ceiling',\n",
       " 'Ceiling',\n",
       " 'Ceiling',\n",
       " 'Ceiling',\n",
       " 'SlabSide',\n",
       " 'SlabSide',\n",
       " 'SlabSide',\n",
       " 'SlabSide',\n",
       " 'SlabSide',\n",
       " 'SlabSide',\n",
       " 'SlabSide',\n",
       " 'SlabSide',\n",
       " 'SlabSide',\n",
       " 'SlabSide',\n",
       " 'SlabSide',\n",
       " 'SlabSide',\n",
       " 'SlabSide',\n",
       " 'SlabSide',\n",
       " 'SlabSide',\n",
       " 'SlabSide',\n",
       " 'SlabSide',\n",
       " 'SlabSide',\n",
       " 'WallOuter',\n",
       " 'WallInner',\n",
       " 'WallTop',\n",
       " 'WallBottom',\n",
       " 'WallOuter',\n",
       " 'WallInner',\n",
       " 'WallTop',\n",
       " 'WallBottom',\n",
       " 'WallOuter',\n",
       " 'WallInner',\n",
       " 'WallTop',\n",
       " 'WallBottom',\n",
       " 'WallOuter',\n",
       " 'WallInner',\n",
       " 'WallTop',\n",
       " 'WallBottom',\n",
       " 'WallInner',\n",
       " 'WallInner',\n",
       " 'WallTop',\n",
       " 'WallBottom',\n",
       " 'WallOuter',\n",
       " 'WallInner',\n",
       " 'WallTop',\n",
       " 'WallBottom',\n",
       " 'WallOuter',\n",
       " 'WallInner',\n",
       " 'WallTop',\n",
       " 'WallBottom',\n",
       " 'WallInner',\n",
       " 'WallInner',\n",
       " 'WallTop',\n",
       " 'WallBottom',\n",
       " 'Floor',\n",
       " 'WallInner',\n",
       " 'WallInner',\n",
       " 'WallTop',\n",
       " 'WallBottom',\n",
       " 'Floor',\n",
       " 'Floor',\n",
       " 'WallInner',\n",
       " 'WallInner',\n",
       " 'WallTop',\n",
       " 'WallBottom',\n",
       " 'WallInner',\n",
       " 'WallInner',\n",
       " 'WallTop',\n",
       " 'WallBottom',\n",
       " 'WallInner',\n",
       " 'WallInner',\n",
       " 'WallTop',\n",
       " 'WallBottom',\n",
       " 'Floor',\n",
       " 'WallInner',\n",
       " 'WallInner',\n",
       " 'WallTop',\n",
       " 'WallBottom',\n",
       " 'Floor',\n",
       " 'WallInner',\n",
       " 'WallInner',\n",
       " 'WallTop',\n",
       " 'WallBottom',\n",
       " 'Floor',\n",
       " 'WallInner',\n",
       " 'WallOuter',\n",
       " 'WallTop',\n",
       " 'WallBottom',\n",
       " 'Baseboard',\n",
       " 'Baseboard',\n",
       " 'Baseboard',\n",
       " 'Baseboard',\n",
       " 'Baseboard',\n",
       " 'Baseboard',\n",
       " 'Baseboard',\n",
       " 'Baseboard',\n",
       " 'Baseboard',\n",
       " 'Baseboard',\n",
       " 'Baseboard',\n",
       " 'Baseboard',\n",
       " 'Baseboard',\n",
       " 'Baseboard',\n",
       " 'Baseboard',\n",
       " 'Baseboard',\n",
       " 'Baseboard',\n",
       " 'Baseboard',\n",
       " 'Baseboard',\n",
       " 'Baseboard',\n",
       " 'Baseboard',\n",
       " 'Baseboard',\n",
       " 'Baseboard',\n",
       " 'Baseboard',\n",
       " 'Baseboard',\n",
       " 'Baseboard',\n",
       " 'Baseboard',\n",
       " 'Baseboard',\n",
       " 'Baseboard',\n",
       " 'Baseboard',\n",
       " 'Baseboard',\n",
       " 'Window',\n",
       " 'Window',\n",
       " 'Window',\n",
       " 'Window',\n",
       " 'Window',\n",
       " 'Window',\n",
       " 'Window',\n",
       " 'Window',\n",
       " 'Door',\n",
       " 'Door',\n",
       " 'Door',\n",
       " 'Door',\n",
       " 'Door',\n",
       " 'Door',\n",
       " 'Door',\n",
       " 'Door']"
      ]
     },
     "execution_count": 98,
     "metadata": {},
     "output_type": "execute_result"
    }
   ],
   "source": [
    "mesh_types = [m['type'] for m in house['mesh']]\n",
    "mesh_types"
   ]
  },
  {
   "cell_type": "code",
   "execution_count": 65,
   "id": "e6a63659-6d6c-4a3e-b2f3-86188566248b",
   "metadata": {
    "tags": []
   },
   "outputs": [],
   "source": [
    "room_number = 0\n",
    "\n",
    "room = house['scene']['room'][room_number]\n",
    "children = [c['instanceid'] for c in room['children']]"
   ]
  },
  {
   "cell_type": "code",
   "execution_count": 68,
   "id": "a360aa97-c1e7-4178-9762-b19477473d1a",
   "metadata": {
    "tags": []
   },
   "outputs": [],
   "source": [
    "splits = [c.split('/') for c in children]\n",
    "furniture = [s for s in splits if s[0]=='furniture']\n",
    "meshes = [s for s in splits if s[0]=='mesh']"
   ]
  },
  {
   "cell_type": "code",
   "execution_count": 70,
   "id": "c22a2b91-fd7a-43d2-bc82-9b4579d35dc3",
   "metadata": {
    "tags": []
   },
   "outputs": [
    {
     "data": {
      "text/plain": [
       "[['furniture', '102'],\n",
       " ['furniture', '103'],\n",
       " ['furniture', '104'],\n",
       " ['furniture', '105'],\n",
       " ['furniture', '106'],\n",
       " ['furniture', '108']]"
      ]
     },
     "execution_count": 70,
     "metadata": {},
     "output_type": "execute_result"
    }
   ],
   "source": [
    "furniture"
   ]
  },
  {
   "cell_type": "code",
   "execution_count": 51,
   "id": "3817057e-c4d7-41b9-a90a-19e6e72fa7de",
   "metadata": {
    "tags": []
   },
   "outputs": [
    {
     "data": {
      "text/plain": [
       "'41211589355750634/04121'"
      ]
     },
     "execution_count": 51,
     "metadata": {},
     "output_type": "execute_result"
    }
   ],
   "source": [
    "house['mesh'][0]['material']"
   ]
  },
  {
   "cell_type": "code",
   "execution_count": 43,
   "id": "060e22a5-f100-4664-b828-cd4d505335e7",
   "metadata": {
    "tags": []
   },
   "outputs": [
    {
     "data": {
      "text/plain": [
       "'00004f89-9aa5-43c2-ae3c-129586be8aaa'"
      ]
     },
     "execution_count": 43,
     "metadata": {},
     "output_type": "execute_result"
    }
   ],
   "source": [
    "Path(house_json_path).stem"
   ]
  },
  {
   "cell_type": "code",
   "execution_count": 45,
   "id": "bdb5223c-1f3f-4b71-a4df-20f3c8366bf0",
   "metadata": {
    "tags": []
   },
   "outputs": [
    {
     "name": "stdout",
     "output_type": "stream",
     "text": [
      "OBJ import of 'raw_model.obj' took 19.0 ms\n",
      "OBJ import of 'raw_model.obj' took 3.1 ms\n",
      "OBJ import of 'raw_model.obj' took 4.3 ms\n"
     ]
    },
    {
     "name": "stderr",
     "output_type": "stream",
     "text": [
      "OBJ import: MTL texture map type not supported: 'map_Ka ./texture.png'\n",
      "OBJ import: MTL texture map type not supported: 'map_Ka ./texture.png'\n",
      "Loaded image from: '/home/tobi/development/datasets/3D-FRONT/3D-FUTURE-model/337833f1-b021-492e-9518-6e0e4db8cf2e/./texture.png'\n",
      "OBJ import: MTL texture map type not supported: 'map_Ka ./texture.png'\n",
      "OBJ import: MTL texture map type not supported: 'map_Ka ./texture.png'\n",
      "OBJ import: MTL texture map type not supported: 'map_Ka ./texture.png'\n",
      "Loaded image from: '/home/tobi/development/datasets/3D-FRONT/3D-FUTURE-model/06ed337c-0db5-40be-8114-884082e0edb4/./texture.png'\n",
      "OBJ import: MTL texture map type not supported: 'map_Ka ./texture.png'\n",
      "Loaded image from: '/home/tobi/development/datasets/3D-FRONT/3D-FUTURE-model/3a3f1a07-c0af-4874-9c39-b7fbf0d7c548/./texture.png'\n"
     ]
    },
    {
     "name": "stdout",
     "output_type": "stream",
     "text": [
      "OBJ import of 'raw_model.obj' took 4.0 ms\n",
      "OBJ import of 'raw_model.obj' took 17.5 ms\n",
      "OBJ import of 'raw_model.obj' took 3.7 ms\n"
     ]
    },
    {
     "name": "stderr",
     "output_type": "stream",
     "text": [
      "OBJ import: MTL texture map type not supported: 'map_Ka ./texture.png'\n",
      "OBJ import: MTL texture map type not supported: 'map_Ka ./texture.png'\n",
      "Loaded image from: '/home/tobi/development/datasets/3D-FRONT/3D-FUTURE-model/5394fc6a-b2f1-48f3-ade0-950d98d6c026/./texture.png'\n",
      "OBJ import: MTL texture map type not supported: 'map_Ka ./texture.png'\n",
      "OBJ import: MTL texture map type not supported: 'map_Ka ./texture.png'\n",
      "Loaded image from: '/home/tobi/development/datasets/3D-FRONT/3D-FUTURE-model/3d375ba6-b294-44ec-afa8-b28694d06615/./texture.png'\n",
      "OBJ import: MTL texture map type not supported: 'map_Ka ./texture.png'\n",
      "OBJ import: MTL texture map type not supported: 'map_Ka ./texture.png'\n",
      "OBJ import: MTL texture map type not supported: 'map_Ka ./texture.png'\n",
      "OBJ import: MTL texture map type not supported: 'map_Ka ./texture.png'\n",
      "OBJ import: MTL texture map type not supported: 'map_Ka ./texture.png'\n",
      "Loaded image from: '/home/tobi/development/datasets/3D-FRONT/3D-FUTURE-model/508aa612-8dda-4528-aee2-62712203ae48/./texture.png'\n"
     ]
    },
    {
     "name": "stdout",
     "output_type": "stream",
     "text": [
      "OBJ import of 'raw_model.obj' took 10.9 ms\n",
      "OBJ import of 'raw_model.obj' took 2.3 ms\n",
      "OBJ import of 'raw_model.obj' took 1.7 ms\n"
     ]
    },
    {
     "name": "stderr",
     "output_type": "stream",
     "text": [
      "OBJ import: MTL texture map type not supported: 'map_Ka ./texture.png'\n",
      "OBJ import: MTL texture map type not supported: 'map_Ka ./texture.png'\n",
      "Loaded image from: '/home/tobi/development/datasets/3D-FRONT/3D-FUTURE-model/5cdd654e-5f03-4183-8140-939641b91125/./texture.png'\n",
      "OBJ import: MTL texture map type not supported: 'map_Ka ./texture.png'\n",
      "OBJ import: MTL texture map type not supported: 'map_Ka ./texture.png'\n",
      "Loaded image from: '/home/tobi/development/datasets/3D-FRONT/3D-FUTURE-model/9f176e5c-e5e4-4f15-9280-7f02b05f2435/./texture.png'\n",
      "OBJ import: MTL texture map type not supported: 'map_Ka ./texture.png'\n",
      "OBJ import: MTL texture map type not supported: 'map_Ka ./texture.png'\n",
      "OBJ import: MTL texture map type not supported: 'map_Ka ./texture.png'\n",
      "OBJ import: MTL texture map type not supported: 'map_Ka ./texture.png'\n",
      "Loaded image from: '/home/tobi/development/datasets/3D-FRONT/3D-FUTURE-model/bcb9884d-d032-40df-b2e1-c2bb467a02e8/./texture.png'\n",
      "OBJ import: MTL texture map type not supported: 'map_Ka ./texture.png'\n",
      "OBJ import: MTL texture map type not supported: 'map_Ka ./texture.png'\n",
      "Loaded image from: '/home/tobi/development/datasets/3D-FRONT/3D-FUTURE-model/73e85e57-b389-494b-81dc-5827c238cb1b/./texture.png'\n",
      "OBJ import: MTL texture map type not supported: 'map_Ka ./texture.png'\n",
      "OBJ import: MTL texture map type not supported: 'map_Ka ./texture.png'\n",
      "Loaded image from: '/home/tobi/development/datasets/3D-FRONT/3D-FUTURE-model/ff62d9c3-1813-406a-88c2-427eaaee4578/./texture.png'\n"
     ]
    },
    {
     "name": "stdout",
     "output_type": "stream",
     "text": [
      "OBJ import of 'raw_model.obj' took 19.3 ms\n",
      "OBJ import of 'raw_model.obj' took 6.0 ms\n",
      "OBJ import of 'raw_model.obj' took 11.0 ms\n",
      "OBJ import of 'raw_model.obj' took 17.7 ms\n"
     ]
    },
    {
     "name": "stderr",
     "output_type": "stream",
     "text": [
      "OBJ import: MTL texture map type not supported: 'map_Ka ./texture.png'\n",
      "OBJ import: MTL texture map type not supported: 'map_Ka ./texture.png'\n",
      "OBJ import: MTL texture map type not supported: 'map_Ka ./texture.png'\n",
      "OBJ import: MTL texture map type not supported: 'map_Ka ./texture.png'\n",
      "OBJ import: MTL texture map type not supported: 'map_Ka ./texture.png'\n",
      "OBJ import: MTL texture map type not supported: 'map_Ka ./texture.png'\n",
      "Loaded image from: '/home/tobi/development/datasets/3D-FRONT/3D-FUTURE-model/a32fbc3e-32e7-44a9-b947-306c42d3a34d/./texture.png'\n",
      "OBJ import: MTL texture map type not supported: 'map_Ka ./texture.png'\n",
      "OBJ import: MTL texture map type not supported: 'map_Ka ./texture.png'\n",
      "OBJ import: MTL texture map type not supported: 'map_Ka ./texture.png'\n",
      "OBJ import: MTL texture map type not supported: 'map_Ka ./texture.png'\n",
      "Loaded image from: '/home/tobi/development/datasets/3D-FRONT/3D-FUTURE-model/bcb9884d-d032-40df-b2e1-c2bb467a02e8/./texture.png'\n"
     ]
    },
    {
     "name": "stdout",
     "output_type": "stream",
     "text": [
      "OBJ import of 'raw_model.obj' took 19.6 ms\n",
      "OBJ import of 'raw_model.obj' took 10.9 ms\n"
     ]
    },
    {
     "name": "stderr",
     "output_type": "stream",
     "text": [
      "OBJ import: MTL texture map type not supported: 'map_Ka ./texture.png'\n",
      "OBJ import: MTL texture map type not supported: 'map_Ka ./texture.png'\n",
      "Loaded image from: '/home/tobi/development/datasets/3D-FRONT/3D-FUTURE-model/ff62d9c3-1813-406a-88c2-427eaaee4578/./texture.png'\n",
      "OBJ import: MTL texture map type not supported: 'map_Ka ./texture.png'\n",
      "OBJ import: MTL texture map type not supported: 'map_Ka ./texture.png'\n",
      "Loaded image from: '/home/tobi/development/datasets/3D-FRONT/3D-FUTURE-model/229a9614-f7bd-4e78-ae14-5b36c827cf88/./texture.png'\n",
      "OBJ import: MTL texture map type not supported: 'map_Ka ./texture.png'\n",
      "OBJ import: MTL texture map type not supported: 'map_Ka ./texture.png'\n",
      "Loaded image from: '/home/tobi/development/datasets/3D-FRONT/3D-FUTURE-model/6289a052-b4a7-417a-b687-b22fddc14663/./texture.png'\n",
      "OBJ import: MTL texture map type not supported: 'map_Ka ./texture.png'\n",
      "OBJ import: MTL texture map type not supported: 'map_Ka ./texture.png'\n",
      "Loaded image from: '/home/tobi/development/datasets/3D-FRONT/3D-FUTURE-model/162e1aed-6e96-4503-ba3c-adfe8b07b429/./texture.png'\n"
     ]
    },
    {
     "name": "stdout",
     "output_type": "stream",
     "text": [
      "OBJ import of 'raw_model.obj' took 7.8 ms\n",
      "OBJ import of 'raw_model.obj' took 18.6 ms\n"
     ]
    },
    {
     "name": "stderr",
     "output_type": "stream",
     "text": [
      "OBJ import: MTL texture map type not supported: 'map_Ka ./texture.png'\n",
      "OBJ import: MTL texture map type not supported: 'map_Ka ./texture.png'\n",
      "Loaded image from: '/home/tobi/development/datasets/3D-FRONT/3D-FUTURE-model/3ab2e104-be5b-4617-a849-306ccb29c0ac/./texture.png'\n",
      "OBJ import: MTL texture map type not supported: 'map_Ka ./texture.png'\n",
      "OBJ import: MTL texture map type not supported: 'map_Ka ./texture.png'\n",
      "OBJ import: MTL texture map type not supported: 'map_Ka ./texture.png'\n",
      "OBJ import: MTL texture map type not supported: 'map_Ka ./texture.png'\n",
      "OBJ import: MTL texture map type not supported: 'map_Ka ./texture.png'\n",
      "Loaded image from: '/home/tobi/development/datasets/3D-FRONT/3D-FUTURE-model/7a1d1b3b-4c78-4edc-8a11-c9a3f962e97f/./texture.png'\n"
     ]
    },
    {
     "name": "stdout",
     "output_type": "stream",
     "text": [
      "OBJ import of 'raw_model.obj' took 6.6 ms\n",
      "OBJ import of 'raw_model.obj' took 13.8 ms\n",
      "OBJ import of 'raw_model.obj' took 17.4 ms\n",
      "OBJ import of 'raw_model.obj' took 17.6 ms\n",
      "Info: Total files 36 | Changed 36 | Failed 0\n",
      "Info: Saved \"00004f89-9aa5-43c2-ae3c-129586be8aaa\"\n"
     ]
    },
    {
     "name": "stderr",
     "output_type": "stream",
     "text": [
      "OBJ import: MTL texture map type not supported: 'map_Ka ./texture.png'\n",
      "OBJ import: MTL texture map type not supported: 'map_Ka ./texture.png'\n",
      "Loaded image from: '/home/tobi/development/datasets/3D-FRONT/3D-FUTURE-model/6289a052-b4a7-417a-b687-b22fddc14663/./texture.png'\n"
     ]
    },
    {
     "data": {
      "text/plain": [
       "{'FINISHED'}"
      ]
     },
     "execution_count": 45,
     "metadata": {},
     "output_type": "execute_result"
    }
   ],
   "source": [
    "loaded_objects = bproc.loader.load_front3d(\n",
    "    json_path=house_json_path,\n",
    "    future_model_path=future_model_dir,\n",
    "    front_3D_texture_path=front_3D_texture_dir,\n",
    "    label_mapping=mapping\n",
    ")\n",
    "bpy.ops.wm.save_as_mainfile(filepath=f\"/home/tobi/development/datasets/3D-FRONT/blender_scenes/{Path(house_json_path).stem}\")"
   ]
  },
  {
   "cell_type": "code",
   "execution_count": 10,
   "id": "a5cecaa3-7705-4b6f-8e37-3a21a55b5d38",
   "metadata": {
    "tags": []
   },
   "outputs": [],
   "source": [
    "# Init bvh tree containing all mesh objects\n",
    "bvh_tree = bproc.object.create_bvh_tree_multi_objects([o for o in loaded_objects if isinstance(o, bproc.types.MeshObject)])"
   ]
  },
  {
   "cell_type": "code",
   "execution_count": 11,
   "id": "20d7d512-9e43-4f1c-8cbd-a62664791efa",
   "metadata": {
    "tags": []
   },
   "outputs": [],
   "source": [
    "# Init sampler for sampling locations inside the loaded front3D house\n",
    "point_sampler = bproc.sampler.Front3DPointInRoomSampler(loaded_objects)\n",
    "\n",
    "poses = 0\n",
    "tries = 0\n",
    "def check_name(name):\n",
    "    for category_name in [\"chair\", \"sofa\", \"table\", \"bed\"]:\n",
    "        if category_name in name.lower():\n",
    "            return True\n",
    "    return False\n",
    "# filter some objects from the loaded objects, which are later used in calculating an interesting score\n",
    "special_objects = [obj.get_cp(\"category_id\") for obj in loaded_objects if check_name(obj.get_name())]\n",
    "proximity_checks = {\"min\": 1.0, \"avg\": {\"min\": 2.5, \"max\": 3.5}, \"no_background\": True}\n",
    "while tries < 10000 and poses < 1:\n",
    "    # Sample point inside house\n",
    "    height = np.random.uniform(1.4, 1.8)\n",
    "    location = point_sampler.sample(height)\n",
    "    # Sample rotation (fix around X and Y axis)\n",
    "    rotation = np.random.uniform([1.2217, 0, 0], [1.338, 0, np.pi * 2])\n",
    "    cam2world_matrix = bproc.math.build_transformation_mat(location, rotation)\n",
    "\n",
    "    # Check that obstacles are at least 1 meter away from the camera and have an average distance between 2.5 and 3.5\n",
    "    # meters and make sure that no background is visible, finally make sure the view is interesting enough\n",
    "    if bproc.camera.scene_coverage_score(cam2world_matrix, special_objects, special_objects_weight=10.0) > 0.8 \\\n",
    "            and bproc.camera.perform_obstacle_in_view_check(cam2world_matrix, proximity_checks, bvh_tree):\n",
    "        bproc.camera.add_camera_pose(cam2world_matrix)\n",
    "        poses += 1\n",
    "    tries += 1"
   ]
  },
  {
   "cell_type": "code",
   "execution_count": 12,
   "id": "1da1f012-68e5-48ec-8c56-411ba81bb434",
   "metadata": {
    "tags": []
   },
   "outputs": [
    {
     "data": {
      "text/html": [
       "<pre style=\"white-space:pre;overflow-x:auto;line-height:normal;font-family:Menlo,'DejaVu Sans Mono',consolas,'Courier New',monospace\"><span style=\"color: #008000; text-decoration-color: #008000\">Total</span>         <span style=\"color: #3a3a3a; text-decoration-color: #3a3a3a\">━━━━━━━━━━━━━━━━━━━━━━━━━━━━━━━━━━━━━━━━</span> <span style=\"color: #008080; text-decoration-color: #008080\">-:--:--</span> Rendering frame 1 of 1                 \n",
       "<span style=\"color: #808000; text-decoration-color: #808000\">Current frame</span> <span style=\"color: #729c1f; text-decoration-color: #729c1f\">━━━━━━━━━━━━━━━━━━━━━━━━━━━━━━━━━━━━━━━━</span> <span style=\"color: #008080; text-decoration-color: #008080\">0:00:00</span> Compositing | De-initializing execution\n",
       "<span style=\"color: #008000; text-decoration-color: #008000\">Total</span>         <span style=\"color: #3a3a3a; text-decoration-color: #3a3a3a\">━━━━━━━━━━━━━━━━━━━━━━━━━━━━━━━━━━━━━━━━</span> <span style=\"color: #008080; text-decoration-color: #008080\">-:--:--</span> Rendering frame 1 of 1                 \n",
       "<span style=\"color: #808000; text-decoration-color: #808000\">Current frame</span> <span style=\"color: #729c1f; text-decoration-color: #729c1f\">━━━━━━━━━━━━━━━━━━━━━━━━━━━━━━━━━━━━━━━━</span> <span style=\"color: #008080; text-decoration-color: #008080\">0:00:00</span> Compositing | De-initializing execution</pre>\n"
      ],
      "text/plain": [
       "\r",
       "\u001b[2K\u001b[1A\u001b[2K\u001b[32mTotal\u001b[0m         \u001b[38;5;237m━━━━━━━━━━━━━━━━━━━━━━━━━━━━━━━━━━━━━━━━\u001b[0m \u001b[36m-:--:--\u001b[0m Rendering frame 1 of 1                 \n",
       "\u001b[33mCurrent frame\u001b[0m \u001b[38;2;114;156;31m━━━━━━━━━━━━━━━━━━━━━━━━━━━━━━━━━━━━━━━━\u001b[0m \u001b[36m0:00:00\u001b[0m Compositing | De-initializing execution\n",
       "\u001b[32mTotal\u001b[0m         \u001b[38;5;237m━━━━━━━━━━━━━━━━━━━━━━━━━━━━━━━━━━━━━━━━\u001b[0m \u001b[36m-:--:--\u001b[0m Rendering frame 1 of 1                 \n",
       "\u001b[33mCurrent frame\u001b[0m \u001b[38;2;114;156;31m━━━━━━━━━━━━━━━━━━━━━━━━━━━━━━━━━━━━━━━━\u001b[0m \u001b[36m0:00:00\u001b[0m Compositing | De-initializing execution"
      ]
     },
     "metadata": {},
     "output_type": "display_data"
    },
    {
     "name": "stdout",
     "output_type": "stream",
     "text": [
      "Fra:0 Mem:462.94M (Peak 462.94M) | Time:06:10.04 | Compositing | Tile 1-4\n",
      "Fra:0 Mem:462.94M (Peak 462.94M) | Time:06:10.04 | Compositing | Tile 2-4\n",
      "Fra:0 Mem:462.94M (Peak 462.94M) | Time:06:10.04 | Compositing | Tile 3-4\n",
      "Fra:0 Mem:462.94M (Peak 462.94M) | Time:06:10.04 | Compositing | Tile 4-4\n",
      "Fra:0 Mem:462.94M (Peak 462.94M) | Time:06:10.04 | Compositing | Tile 1-4\n",
      "Fra:0 Mem:462.94M (Peak 462.94M) | Time:06:10.04 | Compositing | Tile 2-4\n",
      "Fra:0 Mem:462.94M (Peak 462.94M) | Time:06:10.04 | Compositing | Tile 3-4\n",
      "Fra:0 Mem:462.94M (Peak 462.94M) | Time:06:10.04 | Compositing | Tile 4-4\n",
      "Fra:0 Mem:462.88M (Peak 462.94M) | Time:06:10.04 | Compositing | De-initializing execution\n",
      "Saved: segmap_0000.exr\n",
      "Saved: 'rgb_0000.png'\n",
      " Time: 06:10.18 (Saving: 00:00.13)\n",
      "\n"
     ]
    },
    {
     "data": {
      "text/html": [
       "<pre style=\"white-space:pre;overflow-x:auto;line-height:normal;font-family:Menlo,'DejaVu Sans Mono',consolas,'Courier New',monospace\">\n",
       "</pre>\n"
      ],
      "text/plain": [
       "\n",
       "\u001b[?25h\r",
       "\u001b[1A\u001b[2K\u001b[1A\u001b[2K"
      ]
     },
     "metadata": {},
     "output_type": "display_data"
    },
    {
     "name": "stdout",
     "output_type": "stream",
     "text": [
      "Finished rendering after 370.215 seconds\n",
      "It seems the freeimage library which is necessary to read .exr files cannot be found on your computer.\n",
      "Gonna try to download it automatically.\n",
      "Imageio: 'libfreeimage-3.16.0-linux64.so' was not found on your computer; downloading it now.\n",
      "Try 1. Download from https://github.com/imageio/imageio-binaries/raw/master/freeimage/libfreeimage-3.16.0-linux64.so (4.6 MB)\n",
      "Downloading: 8192/4830080 bytes (0.2%114688/4830080 bytes (2.4%229376/4830080 bytes (4.7%360448/4830080 bytes (7.5%491520/4830080 bytes (10.2557056/4830080 bytes (11.5851968/4830080 bytes (17.6983040/4830080 bytes (20.41105920/4830080 bytes (22.9%1228800/4830080 bytes (25.4%1359872/4830080 bytes (28.2%1482752/4830080 bytes (30.7%1613824/4830080 bytes (33.4%1736704/4830080 bytes (36.0%1851392/4830080 bytes (38.3%1966080/4830080 bytes (40.7%2097152/4830080 bytes (43.4%2228224/4830080 bytes (46.1%2359296/4830080 bytes (48.8%2473984/4830080 bytes (51.2%2605056/4830080 bytes (53.9%2719744/4830080 bytes (56.3%2834432/4830080 bytes (58.7%2957312/4830080 bytes (61.2%3088384/4830080 bytes (63.9%3211264/4830080 bytes (66.5%3244032/4830080 bytes (67.2%3530752/4830080 bytes (73.1%3661824/4830080 bytes (75.8%3792896/4830080 bytes (78.5%3923968/4830080 bytes (81.2%4055040/4830080 bytes (84.0%4186112/4830080 bytes (86.7%4317184/4830080 bytes (89.4%4440064/4830080 bytes (91.9%4571136/4830080 bytes (94.6%4702208/4830080 bytes (97.4%4830080/4830080 bytes (100.04830080/4830080 bytes (100.0%)\n",
      "  Done\n",
      "File saved as /home/tobi/.imageio/freeimage/libfreeimage-3.16.0-linux64.so.\n"
     ]
    }
   ],
   "source": [
    "bproc.renderer.enable_segmentation_output(map_by=[\"category_id\"])\n",
    "# render the whole pipeline\n",
    "data = bproc.renderer.render()"
   ]
  },
  {
   "cell_type": "code",
   "execution_count": 19,
   "id": "c6531b2d-7dc0-4bfd-b2a7-89866ac47d35",
   "metadata": {
    "tags": []
   },
   "outputs": [],
   "source": [
    "from matplotlib import pyplot as plt"
   ]
  },
  {
   "cell_type": "code",
   "execution_count": 20,
   "id": "e5a0330f-da27-4522-8b5a-847a6969f452",
   "metadata": {
    "tags": []
   },
   "outputs": [
    {
     "data": {
      "text/plain": [
       "<matplotlib.image.AxesImage at 0x7fec44dffee0>"
      ]
     },
     "execution_count": 20,
     "metadata": {},
     "output_type": "execute_result"
    },
    {
     "data": {
      "image/png": "[encoded data removed]",
      "text/plain": [
       "<Figure size 640x480 with 1 Axes>"
      ]
     },
     "metadata": {},
     "output_type": "display_data"
    }
   ],
   "source": [
    "plt.imshow(data['colors'][0])"
   ]
  },
  {
   "cell_type": "code",
   "execution_count": 21,
   "id": "17500c1f-c916-4d2f-9c8c-6fa390c34c01",
   "metadata": {
    "tags": []
   },
   "outputs": [],
   "source": [
    "import bpy"
   ]
  },
  {
   "cell_type": "code",
   "execution_count": 25,
   "id": "d85af379-0342-4c3b-82e3-c183bebd5ce2",
   "metadata": {
    "tags": []
   },
   "outputs": [],
   "source": [
    "scene  = bpy.data.scenes['Scene']"
   ]
  },
  {
   "cell_type": "code",
   "execution_count": 26,
   "id": "1f5ce9d4-8d44-484f-b42f-f4f44a696956",
   "metadata": {
    "tags": []
   },
   "outputs": [
    {
     "name": "stdout",
     "output_type": "stream",
     "text": [
      "Info: Total files 19 | Changed 19 | Failed 0\n",
      "Info: Saved \"test_room_blend\"\n"
     ]
    },
    {
     "data": {
      "text/plain": [
       "{'FINISHED'}"
      ]
     },
     "execution_count": 26,
     "metadata": {},
     "output_type": "execute_result"
    }
   ],
   "source": [
    "bpy.ops.wm.save_as_mainfile(filepath=\"/home/tobi/tmp/test_room_blend\")"
   ]
  }
 ],
 "metadata": {
  "kernelspec": {
   "display_name": "Python 3 (ipykernel)",
   "language": "python",
   "name": "python3"
  },
  "language_info": {
   "codemirror_mode": {
    "name": "ipython",
    "version": 3
   },
   "file_extension": ".py",
   "mimetype": "text/x-python",
   "name": "python",
   "nbconvert_exporter": "python",
   "pygments_lexer": "ipython3",
   "version": "3.10.9"
  }
 },
 "nbformat": 4,
 "nbformat_minor": 5
}
